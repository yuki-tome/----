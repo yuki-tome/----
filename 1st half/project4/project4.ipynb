{
 "cells": [
  {
   "attachments": {},
   "cell_type": "markdown",
   "metadata": {},
   "source": [
    "**Project4**\n",
    "\n",
    "Leader\n",
    "\n",
    "m5271046 Yuki Tome\n",
    "\n",
    "Member\n",
    "\n",
    "m5271022 Yusuke Matsushima\n",
    "\n",
    "m5271043 Hiroshi Tatsuta\n",
    "\n",
    "m5271009 Shota Higa"
   ]
  },
  {
   "attachments": {},
   "cell_type": "markdown",
   "metadata": {},
   "source": [
    "P(x1, x2, x3, x4, x5) = P(x1) * P(x2|x1) * P(x3|x1) * P(x4|x2, x3) * P(x5|x3)"
   ]
  },
  {
   "cell_type": "code",
   "execution_count": 1,
   "metadata": {},
   "outputs": [
    {
     "name": "stdout",
     "output_type": "stream",
     "text": [
      "     x1   x2   x3   x4   x5  probability\n",
      "0   0.0  0.0  0.0  0.0  0.0      0.08192\n",
      "1   0.0  0.0  0.0  0.0  1.0      0.02048\n",
      "2   0.0  0.0  0.0  1.0  0.0      0.02048\n",
      "3   0.0  0.0  0.0  1.0  1.0      0.00512\n",
      "4   0.0  0.0  1.0  0.0  0.0      0.00256\n",
      "5   0.0  0.0  1.0  0.0  1.0      0.01024\n",
      "6   0.0  0.0  1.0  1.0  0.0      0.00384\n",
      "7   0.0  0.0  1.0  1.0  1.0      0.01536\n",
      "8   0.0  1.0  0.0  0.0  0.0      0.01024\n",
      "9   0.0  1.0  0.0  0.0  1.0      0.00256\n",
      "10  0.0  1.0  0.0  1.0  0.0      0.01536\n",
      "11  0.0  1.0  0.0  1.0  1.0      0.00384\n",
      "12  0.0  1.0  1.0  0.0  0.0      0.00032\n",
      "13  0.0  1.0  1.0  0.0  1.0      0.00128\n",
      "14  0.0  1.0  1.0  1.0  0.0      0.00128\n",
      "15  0.0  1.0  1.0  1.0  1.0      0.00512\n",
      "16  1.0  0.0  0.0  0.0  0.0      0.02048\n",
      "17  1.0  0.0  0.0  0.0  1.0      0.00512\n",
      "18  1.0  0.0  0.0  1.0  0.0      0.00512\n",
      "19  1.0  0.0  0.0  1.0  1.0      0.00128\n",
      "20  1.0  0.0  1.0  0.0  0.0      0.01024\n",
      "21  1.0  0.0  1.0  0.0  1.0      0.04096\n",
      "22  1.0  0.0  1.0  1.0  0.0      0.01536\n",
      "23  1.0  0.0  1.0  1.0  1.0      0.06144\n",
      "24  1.0  1.0  0.0  0.0  0.0      0.04096\n",
      "25  1.0  1.0  0.0  0.0  1.0      0.01024\n",
      "26  1.0  1.0  0.0  1.0  0.0      0.06144\n",
      "27  1.0  1.0  0.0  1.0  1.0      0.01536\n",
      "28  1.0  1.0  1.0  0.0  0.0      0.02048\n",
      "29  1.0  1.0  1.0  0.0  1.0      0.08192\n",
      "30  1.0  1.0  1.0  1.0  0.0      0.08192\n",
      "31  1.0  1.0  1.0  1.0  1.0      0.32768\n"
     ]
    },
    {
     "name": "stderr",
     "output_type": "stream",
     "text": [
      "/var/folders/tx/k4_cwgz1273dlgpd0fzc61640000gn/T/ipykernel_9421/1366501196.py:26: FutureWarning: The frame.append method is deprecated and will be removed from pandas in a future version. Use pandas.concat instead.\n",
      "  jpdt = jpdt.append({'x1': x1, 'x2': x2, 'x3': x3, 'x4': x4, 'x5': x5, 'probability': p}, ignore_index=True)\n",
      "/var/folders/tx/k4_cwgz1273dlgpd0fzc61640000gn/T/ipykernel_9421/1366501196.py:26: FutureWarning: The frame.append method is deprecated and will be removed from pandas in a future version. Use pandas.concat instead.\n",
      "  jpdt = jpdt.append({'x1': x1, 'x2': x2, 'x3': x3, 'x4': x4, 'x5': x5, 'probability': p}, ignore_index=True)\n",
      "/var/folders/tx/k4_cwgz1273dlgpd0fzc61640000gn/T/ipykernel_9421/1366501196.py:26: FutureWarning: The frame.append method is deprecated and will be removed from pandas in a future version. Use pandas.concat instead.\n",
      "  jpdt = jpdt.append({'x1': x1, 'x2': x2, 'x3': x3, 'x4': x4, 'x5': x5, 'probability': p}, ignore_index=True)\n",
      "/var/folders/tx/k4_cwgz1273dlgpd0fzc61640000gn/T/ipykernel_9421/1366501196.py:26: FutureWarning: The frame.append method is deprecated and will be removed from pandas in a future version. Use pandas.concat instead.\n",
      "  jpdt = jpdt.append({'x1': x1, 'x2': x2, 'x3': x3, 'x4': x4, 'x5': x5, 'probability': p}, ignore_index=True)\n",
      "/var/folders/tx/k4_cwgz1273dlgpd0fzc61640000gn/T/ipykernel_9421/1366501196.py:26: FutureWarning: The frame.append method is deprecated and will be removed from pandas in a future version. Use pandas.concat instead.\n",
      "  jpdt = jpdt.append({'x1': x1, 'x2': x2, 'x3': x3, 'x4': x4, 'x5': x5, 'probability': p}, ignore_index=True)\n",
      "/var/folders/tx/k4_cwgz1273dlgpd0fzc61640000gn/T/ipykernel_9421/1366501196.py:26: FutureWarning: The frame.append method is deprecated and will be removed from pandas in a future version. Use pandas.concat instead.\n",
      "  jpdt = jpdt.append({'x1': x1, 'x2': x2, 'x3': x3, 'x4': x4, 'x5': x5, 'probability': p}, ignore_index=True)\n",
      "/var/folders/tx/k4_cwgz1273dlgpd0fzc61640000gn/T/ipykernel_9421/1366501196.py:26: FutureWarning: The frame.append method is deprecated and will be removed from pandas in a future version. Use pandas.concat instead.\n",
      "  jpdt = jpdt.append({'x1': x1, 'x2': x2, 'x3': x3, 'x4': x4, 'x5': x5, 'probability': p}, ignore_index=True)\n",
      "/var/folders/tx/k4_cwgz1273dlgpd0fzc61640000gn/T/ipykernel_9421/1366501196.py:26: FutureWarning: The frame.append method is deprecated and will be removed from pandas in a future version. Use pandas.concat instead.\n",
      "  jpdt = jpdt.append({'x1': x1, 'x2': x2, 'x3': x3, 'x4': x4, 'x5': x5, 'probability': p}, ignore_index=True)\n",
      "/var/folders/tx/k4_cwgz1273dlgpd0fzc61640000gn/T/ipykernel_9421/1366501196.py:26: FutureWarning: The frame.append method is deprecated and will be removed from pandas in a future version. Use pandas.concat instead.\n",
      "  jpdt = jpdt.append({'x1': x1, 'x2': x2, 'x3': x3, 'x4': x4, 'x5': x5, 'probability': p}, ignore_index=True)\n",
      "/var/folders/tx/k4_cwgz1273dlgpd0fzc61640000gn/T/ipykernel_9421/1366501196.py:26: FutureWarning: The frame.append method is deprecated and will be removed from pandas in a future version. Use pandas.concat instead.\n",
      "  jpdt = jpdt.append({'x1': x1, 'x2': x2, 'x3': x3, 'x4': x4, 'x5': x5, 'probability': p}, ignore_index=True)\n",
      "/var/folders/tx/k4_cwgz1273dlgpd0fzc61640000gn/T/ipykernel_9421/1366501196.py:26: FutureWarning: The frame.append method is deprecated and will be removed from pandas in a future version. Use pandas.concat instead.\n",
      "  jpdt = jpdt.append({'x1': x1, 'x2': x2, 'x3': x3, 'x4': x4, 'x5': x5, 'probability': p}, ignore_index=True)\n",
      "/var/folders/tx/k4_cwgz1273dlgpd0fzc61640000gn/T/ipykernel_9421/1366501196.py:26: FutureWarning: The frame.append method is deprecated and will be removed from pandas in a future version. Use pandas.concat instead.\n",
      "  jpdt = jpdt.append({'x1': x1, 'x2': x2, 'x3': x3, 'x4': x4, 'x5': x5, 'probability': p}, ignore_index=True)\n",
      "/var/folders/tx/k4_cwgz1273dlgpd0fzc61640000gn/T/ipykernel_9421/1366501196.py:26: FutureWarning: The frame.append method is deprecated and will be removed from pandas in a future version. Use pandas.concat instead.\n",
      "  jpdt = jpdt.append({'x1': x1, 'x2': x2, 'x3': x3, 'x4': x4, 'x5': x5, 'probability': p}, ignore_index=True)\n",
      "/var/folders/tx/k4_cwgz1273dlgpd0fzc61640000gn/T/ipykernel_9421/1366501196.py:26: FutureWarning: The frame.append method is deprecated and will be removed from pandas in a future version. Use pandas.concat instead.\n",
      "  jpdt = jpdt.append({'x1': x1, 'x2': x2, 'x3': x3, 'x4': x4, 'x5': x5, 'probability': p}, ignore_index=True)\n",
      "/var/folders/tx/k4_cwgz1273dlgpd0fzc61640000gn/T/ipykernel_9421/1366501196.py:26: FutureWarning: The frame.append method is deprecated and will be removed from pandas in a future version. Use pandas.concat instead.\n",
      "  jpdt = jpdt.append({'x1': x1, 'x2': x2, 'x3': x3, 'x4': x4, 'x5': x5, 'probability': p}, ignore_index=True)\n",
      "/var/folders/tx/k4_cwgz1273dlgpd0fzc61640000gn/T/ipykernel_9421/1366501196.py:26: FutureWarning: The frame.append method is deprecated and will be removed from pandas in a future version. Use pandas.concat instead.\n",
      "  jpdt = jpdt.append({'x1': x1, 'x2': x2, 'x3': x3, 'x4': x4, 'x5': x5, 'probability': p}, ignore_index=True)\n",
      "/var/folders/tx/k4_cwgz1273dlgpd0fzc61640000gn/T/ipykernel_9421/1366501196.py:26: FutureWarning: The frame.append method is deprecated and will be removed from pandas in a future version. Use pandas.concat instead.\n",
      "  jpdt = jpdt.append({'x1': x1, 'x2': x2, 'x3': x3, 'x4': x4, 'x5': x5, 'probability': p}, ignore_index=True)\n",
      "/var/folders/tx/k4_cwgz1273dlgpd0fzc61640000gn/T/ipykernel_9421/1366501196.py:26: FutureWarning: The frame.append method is deprecated and will be removed from pandas in a future version. Use pandas.concat instead.\n",
      "  jpdt = jpdt.append({'x1': x1, 'x2': x2, 'x3': x3, 'x4': x4, 'x5': x5, 'probability': p}, ignore_index=True)\n",
      "/var/folders/tx/k4_cwgz1273dlgpd0fzc61640000gn/T/ipykernel_9421/1366501196.py:26: FutureWarning: The frame.append method is deprecated and will be removed from pandas in a future version. Use pandas.concat instead.\n",
      "  jpdt = jpdt.append({'x1': x1, 'x2': x2, 'x3': x3, 'x4': x4, 'x5': x5, 'probability': p}, ignore_index=True)\n",
      "/var/folders/tx/k4_cwgz1273dlgpd0fzc61640000gn/T/ipykernel_9421/1366501196.py:26: FutureWarning: The frame.append method is deprecated and will be removed from pandas in a future version. Use pandas.concat instead.\n",
      "  jpdt = jpdt.append({'x1': x1, 'x2': x2, 'x3': x3, 'x4': x4, 'x5': x5, 'probability': p}, ignore_index=True)\n",
      "/var/folders/tx/k4_cwgz1273dlgpd0fzc61640000gn/T/ipykernel_9421/1366501196.py:26: FutureWarning: The frame.append method is deprecated and will be removed from pandas in a future version. Use pandas.concat instead.\n",
      "  jpdt = jpdt.append({'x1': x1, 'x2': x2, 'x3': x3, 'x4': x4, 'x5': x5, 'probability': p}, ignore_index=True)\n",
      "/var/folders/tx/k4_cwgz1273dlgpd0fzc61640000gn/T/ipykernel_9421/1366501196.py:26: FutureWarning: The frame.append method is deprecated and will be removed from pandas in a future version. Use pandas.concat instead.\n",
      "  jpdt = jpdt.append({'x1': x1, 'x2': x2, 'x3': x3, 'x4': x4, 'x5': x5, 'probability': p}, ignore_index=True)\n",
      "/var/folders/tx/k4_cwgz1273dlgpd0fzc61640000gn/T/ipykernel_9421/1366501196.py:26: FutureWarning: The frame.append method is deprecated and will be removed from pandas in a future version. Use pandas.concat instead.\n",
      "  jpdt = jpdt.append({'x1': x1, 'x2': x2, 'x3': x3, 'x4': x4, 'x5': x5, 'probability': p}, ignore_index=True)\n",
      "/var/folders/tx/k4_cwgz1273dlgpd0fzc61640000gn/T/ipykernel_9421/1366501196.py:26: FutureWarning: The frame.append method is deprecated and will be removed from pandas in a future version. Use pandas.concat instead.\n",
      "  jpdt = jpdt.append({'x1': x1, 'x2': x2, 'x3': x3, 'x4': x4, 'x5': x5, 'probability': p}, ignore_index=True)\n",
      "/var/folders/tx/k4_cwgz1273dlgpd0fzc61640000gn/T/ipykernel_9421/1366501196.py:26: FutureWarning: The frame.append method is deprecated and will be removed from pandas in a future version. Use pandas.concat instead.\n",
      "  jpdt = jpdt.append({'x1': x1, 'x2': x2, 'x3': x3, 'x4': x4, 'x5': x5, 'probability': p}, ignore_index=True)\n",
      "/var/folders/tx/k4_cwgz1273dlgpd0fzc61640000gn/T/ipykernel_9421/1366501196.py:26: FutureWarning: The frame.append method is deprecated and will be removed from pandas in a future version. Use pandas.concat instead.\n",
      "  jpdt = jpdt.append({'x1': x1, 'x2': x2, 'x3': x3, 'x4': x4, 'x5': x5, 'probability': p}, ignore_index=True)\n",
      "/var/folders/tx/k4_cwgz1273dlgpd0fzc61640000gn/T/ipykernel_9421/1366501196.py:26: FutureWarning: The frame.append method is deprecated and will be removed from pandas in a future version. Use pandas.concat instead.\n",
      "  jpdt = jpdt.append({'x1': x1, 'x2': x2, 'x3': x3, 'x4': x4, 'x5': x5, 'probability': p}, ignore_index=True)\n",
      "/var/folders/tx/k4_cwgz1273dlgpd0fzc61640000gn/T/ipykernel_9421/1366501196.py:26: FutureWarning: The frame.append method is deprecated and will be removed from pandas in a future version. Use pandas.concat instead.\n",
      "  jpdt = jpdt.append({'x1': x1, 'x2': x2, 'x3': x3, 'x4': x4, 'x5': x5, 'probability': p}, ignore_index=True)\n",
      "/var/folders/tx/k4_cwgz1273dlgpd0fzc61640000gn/T/ipykernel_9421/1366501196.py:26: FutureWarning: The frame.append method is deprecated and will be removed from pandas in a future version. Use pandas.concat instead.\n",
      "  jpdt = jpdt.append({'x1': x1, 'x2': x2, 'x3': x3, 'x4': x4, 'x5': x5, 'probability': p}, ignore_index=True)\n",
      "/var/folders/tx/k4_cwgz1273dlgpd0fzc61640000gn/T/ipykernel_9421/1366501196.py:26: FutureWarning: The frame.append method is deprecated and will be removed from pandas in a future version. Use pandas.concat instead.\n",
      "  jpdt = jpdt.append({'x1': x1, 'x2': x2, 'x3': x3, 'x4': x4, 'x5': x5, 'probability': p}, ignore_index=True)\n",
      "/var/folders/tx/k4_cwgz1273dlgpd0fzc61640000gn/T/ipykernel_9421/1366501196.py:26: FutureWarning: The frame.append method is deprecated and will be removed from pandas in a future version. Use pandas.concat instead.\n",
      "  jpdt = jpdt.append({'x1': x1, 'x2': x2, 'x3': x3, 'x4': x4, 'x5': x5, 'probability': p}, ignore_index=True)\n",
      "/var/folders/tx/k4_cwgz1273dlgpd0fzc61640000gn/T/ipykernel_9421/1366501196.py:26: FutureWarning: The frame.append method is deprecated and will be removed from pandas in a future version. Use pandas.concat instead.\n",
      "  jpdt = jpdt.append({'x1': x1, 'x2': x2, 'x3': x3, 'x4': x4, 'x5': x5, 'probability': p}, ignore_index=True)\n"
     ]
    }
   ],
   "source": [
    "import pandas as pd\n",
    "import numpy as np\n",
    "\n",
    "# Probabilities are given in the problem\n",
    "p_x1 = {1: 0.8, 0: 0.2}\n",
    "p_x2_given_x1 = {(1, 1): 0.8, (1, 0): 0.2, (0, 1): 0.2, (0, 0): 0.8}\n",
    "p_x3_given_x1 = {(1, 1): 0.8, (1, 0): 0.2, (0, 1): 0.2, (0, 0): 0.8}\n",
    "p_x4_given_x2_x3 = {(1, 1, 1): 0.8, (1, 1, 0): 0.2, (1, 0, 1): 0.6, (1, 0, 0): 0.4,\n",
    "                    (0, 1, 1): 0.6, (0, 1, 0): 0.4, (0, 0, 1): 0.2, (0, 0, 0): 0.8}\n",
    "p_x5_given_x3 = {(1, 1): 0.8, (1, 0): 0.2, (0, 1): 0.2, (0, 0): 0.8}\n",
    "\n",
    "# Initialize JPDT\n",
    "jpdt = pd.DataFrame(columns=['x1', 'x2', 'x3', 'x4', 'x5', 'probability'])\n",
    "\n",
    "# Fill in JPDT\n",
    "for x1 in [0, 1]:\n",
    "    for x2 in [0, 1]:\n",
    "        for x3 in [0, 1]:\n",
    "            for x4 in [0, 1]:\n",
    "                for x5 in [0, 1]:\n",
    "                    p = (p_x1[x1] * \n",
    "                         p_x2_given_x1[(x1, x2)] * \n",
    "                         p_x3_given_x1[(x1, x3)] * \n",
    "                         p_x4_given_x2_x3[(x2, x3, x4)] * \n",
    "                         p_x5_given_x3[(x3, x5)])\n",
    "                    jpdt = jpdt.append({'x1': x1, 'x2': x2, 'x3': x3, 'x4': x4, 'x5': x5, 'probability': p}, ignore_index=True)\n",
    "\n",
    "print(jpdt)"
   ]
  },
  {
   "cell_type": "code",
   "execution_count": 2,
   "metadata": {},
   "outputs": [
    {
     "name": "stdout",
     "output_type": "stream",
     "text": [
      "     x1   x2   x3   x4   x5  probability\n",
      "23  1.0  0.0  1.0  1.0  1.0      0.06144\n",
      "26  1.0  1.0  0.0  1.0  0.0      0.06144\n",
      "30  1.0  1.0  1.0  1.0  0.0      0.08192\n",
      "22  1.0  0.0  1.0  1.0  0.0      0.01536\n",
      "16  1.0  0.0  0.0  0.0  0.0      0.02048\n",
      "..  ...  ...  ...  ...  ...          ...\n",
      "27  1.0  1.0  0.0  1.0  1.0      0.01536\n",
      "30  1.0  1.0  1.0  1.0  0.0      0.08192\n",
      "29  1.0  1.0  1.0  0.0  1.0      0.08192\n",
      "31  1.0  1.0  1.0  1.0  1.0      0.32768\n",
      "31  1.0  1.0  1.0  1.0  1.0      0.32768\n",
      "\n",
      "[100 rows x 6 columns]\n"
     ]
    }
   ],
   "source": [
    "data_samples = jpdt.sample(n=100, replace=True, weights='probability')\n",
    "print(data_samples)"
   ]
  },
  {
   "cell_type": "code",
   "execution_count": 3,
   "metadata": {},
   "outputs": [
    {
     "name": "stdout",
     "output_type": "stream",
     "text": [
      "Values: (0, 0, 0, 0, 0), Probability: 0.08192000000000003\n",
      "Values: (0, 0, 0, 0, 1), Probability: 0.02048000000000001\n",
      "Values: (0, 0, 0, 1, 0), Probability: 0.02048000000000001\n",
      "Values: (0, 0, 0, 1, 1), Probability: 0.005120000000000002\n",
      "Values: (0, 0, 1, 0, 0), Probability: 0.002560000000000001\n",
      "Values: (0, 0, 1, 0, 1), Probability: 0.010240000000000004\n",
      "Values: (0, 0, 1, 1, 0), Probability: 0.0038400000000000014\n",
      "Values: (0, 0, 1, 1, 1), Probability: 0.015360000000000006\n",
      "Values: (0, 1, 0, 0, 0), Probability: 0.010240000000000004\n",
      "Values: (0, 1, 0, 0, 1), Probability: 0.002560000000000001\n",
      "Values: (0, 1, 0, 1, 0), Probability: 0.015360000000000006\n",
      "Values: (0, 1, 0, 1, 1), Probability: 0.0038400000000000014\n",
      "Values: (0, 1, 1, 0, 0), Probability: 0.00032000000000000013\n",
      "Values: (0, 1, 1, 0, 1), Probability: 0.0012800000000000005\n",
      "Values: (0, 1, 1, 1, 0), Probability: 0.0012800000000000005\n",
      "Values: (0, 1, 1, 1, 1), Probability: 0.005120000000000002\n",
      "Values: (1, 0, 0, 0, 0), Probability: 0.02048000000000001\n",
      "Values: (1, 0, 0, 0, 1), Probability: 0.005120000000000002\n",
      "Values: (1, 0, 0, 1, 0), Probability: 0.005120000000000002\n",
      "Values: (1, 0, 0, 1, 1), Probability: 0.0012800000000000005\n",
      "Values: (1, 0, 1, 0, 0), Probability: 0.010240000000000004\n",
      "Values: (1, 0, 1, 0, 1), Probability: 0.04096000000000002\n",
      "Values: (1, 0, 1, 1, 0), Probability: 0.015360000000000006\n",
      "Values: (1, 0, 1, 1, 1), Probability: 0.06144000000000002\n",
      "Values: (1, 1, 0, 0, 0), Probability: 0.04096000000000002\n",
      "Values: (1, 1, 0, 0, 1), Probability: 0.010240000000000004\n",
      "Values: (1, 1, 0, 1, 0), Probability: 0.06144000000000002\n",
      "Values: (1, 1, 0, 1, 1), Probability: 0.015360000000000006\n",
      "Values: (1, 1, 1, 0, 0), Probability: 0.02048000000000001\n",
      "Values: (1, 1, 1, 0, 1), Probability: 0.08192000000000003\n",
      "Values: (1, 1, 1, 1, 0), Probability: 0.08192000000000003\n",
      "Values: (1, 1, 1, 1, 1), Probability: 0.32768000000000014\n"
     ]
    }
   ],
   "source": [
    "import itertools\n",
    "\n",
    "# Given probabilities\n",
    "probabilities = {\n",
    "    'p_x1': {1: 0.8, 0: 0.2},\n",
    "    'p_x2_given_x1': {(1, 1): 0.8, (1, 0): 0.2, (0, 1): 0.2, (0, 0): 0.8},\n",
    "    'p_x3_given_x1': {(1, 1): 0.8, (1, 0): 0.2, (0, 1): 0.2, (0, 0): 0.8},\n",
    "    'p_x4_given_x2_x3': {(1, 1, 1): 0.8, (1, 1, 0): 0.2, (1, 0, 1): 0.6, (1, 0, 0): 0.4,\n",
    "                         (0, 1, 1): 0.6, (0, 1, 0): 0.4, (0, 0, 1): 0.2, (0, 0, 0): 0.8},\n",
    "    'p_x5_given_x3': {(1, 1): 0.8, (1, 0): 0.2, (0, 1): 0.2, (0, 0): 0.8}\n",
    "}\n",
    "\n",
    "# Initialize JPDT\n",
    "jpdt = []\n",
    "\n",
    "# Compute joint probabilities for all combinations\n",
    "for x1, x2, x3, x4, x5 in itertools.product([0, 1], repeat=5):\n",
    "    joint_p = (\n",
    "        probabilities['p_x1'][x1] *\n",
    "        probabilities['p_x2_given_x1'][(x1, x2)] *\n",
    "        probabilities['p_x3_given_x1'][(x1, x3)] *\n",
    "        probabilities['p_x4_given_x2_x3'][(x2, x3, x4)] *\n",
    "        probabilities['p_x5_given_x3'][(x3, x5)]\n",
    "    )\n",
    "    jpdt.append(((x1, x2, x3, x4, x5), joint_p))\n",
    "\n",
    "# Print JPDT\n",
    "for vals, prob in jpdt:\n",
    "    print(f'Values: {vals}, Probability: {prob}')\n"
   ]
  },
  {
   "cell_type": "code",
   "execution_count": 4,
   "metadata": {},
   "outputs": [
    {
     "name": "stdout",
     "output_type": "stream",
     "text": [
      "Total Probability: 1.0000000000000004\n"
     ]
    }
   ],
   "source": [
    "# Total probability should be 1\n",
    "total_prob = sum(prob for _, prob in jpdt)\n",
    "print(f'Total Probability: {total_prob}')  # should be close to 1"
   ]
  },
  {
   "cell_type": "code",
   "execution_count": 5,
   "metadata": {},
   "outputs": [
    {
     "name": "stdout",
     "output_type": "stream",
     "text": [
      "P(X2=1|X1=1) in JPDT: 0.8000000000000002\n",
      "P(X2=0|X1=1) in JPDT: 0.2\n"
     ]
    }
   ],
   "source": [
    "# Extract probabilities for X1=1 from JPDT\n",
    "jpdt_x1_1 = [prob for (x1, _, _, _, _), prob in jpdt if x1 == 1]\n",
    "\n",
    "# Check consistency with P(X2|X1=1)\n",
    "jpdt_x2_given_x1_1 = [prob for (x1, x2, _, _, _), prob in jpdt if x1 == 1 and x2 == 1]\n",
    "print(f'P(X2=1|X1=1) in JPDT: {sum(jpdt_x2_given_x1_1) / sum(jpdt_x1_1)}')  # should be close to 0.8\n",
    "\n",
    "jpdt_x2_given_x1_1 = [prob for (x1, x2, _, _, _), prob in jpdt if x1 == 1 and x2 == 0]\n",
    "print(f'P(X2=0|X1=1) in JPDT: {sum(jpdt_x2_given_x1_1) / sum(jpdt_x1_1)}')  # should be close to 0.2"
   ]
  },
  {
   "attachments": {},
   "cell_type": "markdown",
   "metadata": {},
   "source": [
    "p25\n",
    "\n",
    "X2=1 X1=1 0.8\n",
    "\n",
    "X2=0 X1=1 0.2"
   ]
  }
 ],
 "metadata": {
  "kernelspec": {
   "display_name": "Python 3",
   "language": "python",
   "name": "python3"
  },
  "language_info": {
   "codemirror_mode": {
    "name": "ipython",
    "version": 3
   },
   "file_extension": ".py",
   "mimetype": "text/x-python",
   "name": "python",
   "nbconvert_exporter": "python",
   "pygments_lexer": "ipython3",
   "version": "3.8.2rc2"
  },
  "orig_nbformat": 4
 },
 "nbformat": 4,
 "nbformat_minor": 2
}
