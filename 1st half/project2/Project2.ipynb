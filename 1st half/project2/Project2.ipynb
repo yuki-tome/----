{
  "cells": [
    {
      "attachments": {},
      "cell_type": "markdown",
      "metadata": {},
      "source": [
        "# Project2"
      ]
    },
    {
      "attachments": {},
      "cell_type": "markdown",
      "metadata": {},
      "source": [
        "Project leader: Yusuke Matsushima (m5271022)\n",
        "\n",
        "Member: Shota Higa (m5271009), Hiroshi Tatsuta (m5271043), Yuki Tomei (m5271046)"
      ]
    },
    {
      "attachments": {},
      "cell_type": "markdown",
      "metadata": {
        "id": "0I9DFA7Ppffy"
      },
      "source": [
        "## Algorithm assignment"
      ]
    },
    {
      "attachments": {},
      "cell_type": "markdown",
      "metadata": {
        "id": "cQ15EcI-3ORj"
      },
      "source": [
        "\n",
        "Step1: Compute distances between test instance and all training instances.\n",
        "\n",
        "Step2: Sort the training dataset based on the distances.\n",
        "\n",
        "Step3: Select k training instances with the smallest distances.\n",
        "\n",
        "Step4: Count the class labels of selected training instances.\n",
        "\n",
        "Step5: Predicted label is the class label with largest count.\n",
        "\n",
        "Step6: Return the predicted label.\n"
      ]
    },
    {
      "attachments": {},
      "cell_type": "markdown",
      "metadata": {
        "id": "N-0XlIAPprJ2"
      },
      "source": [
        "## Program assignment"
      ]
    },
    {
      "cell_type": "code",
      "execution_count": 1,
      "metadata": {
        "id": "EQhTyU0Bpu2Z"
      },
      "outputs": [],
      "source": [
        "from sklearn.neighbors import KNeighborsClassifier\n",
        "from sklearn import datasets\n",
        "from sklearn.model_selection import train_test_split\n",
        "from sklearn.metrics import accuracy_score"
      ]
    },
    {
      "cell_type": "code",
      "execution_count": 2,
      "metadata": {
        "id": "ZK5BjjJZqGpW"
      },
      "outputs": [],
      "source": [
        "iris = datasets.load_iris()\n",
        "X = iris.data\n",
        "y = iris.target"
      ]
    },
    {
      "cell_type": "code",
      "execution_count": 3,
      "metadata": {
        "id": "bLMLnUgi0MaM"
      },
      "outputs": [],
      "source": [
        "X_train, X_test, y_train, y_test = train_test_split(X, y, test_size = 0.2, shuffle=True, random_state=123)"
      ]
    },
    {
      "cell_type": "code",
      "execution_count": 4,
      "metadata": {
        "colab": {
          "base_uri": "https://localhost:8080/"
        },
        "id": "ABHD9USp0p1h",
        "outputId": "9c5b8f05-397a-4f1a-d098-abe8db1e78cb"
      },
      "outputs": [
        {
          "name": "stdout",
          "output_type": "stream",
          "text": [
            "k=1, accuracy=0.9\n",
            "k=2, accuracy=0.9\n",
            "k=5, accuracy=0.9666666666666667\n",
            "k=10, accuracy=0.9333333333333333\n",
            "k=15, accuracy=0.9666666666666667\n",
            "k=50, accuracy=0.8666666666666667\n",
            "k=100, accuracy=0.2\n"
          ]
        }
      ],
      "source": [
        "k_values = [1,2,5,10,15,50,100]\n",
        "for k in k_values:\n",
        "  neigh = KNeighborsClassifier(n_neighbors=k)\n",
        "  neigh.fit(X_train,y_train)\n",
        "  acc = accuracy_score(y_test, neigh.predict(X_test))\n",
        "  print(\"k={}, accuracy={}\".format(k, acc))"
      ]
    },
    {
      "attachments": {},
      "cell_type": "markdown",
      "metadata": {
        "id": "_kOsVCk76ycY"
      },
      "source": [
        "Advantage\n",
        "\n",
        "1, KNN is simple and easy to implement.\n",
        "\n",
        "2, KNN can be used for regression and classification."
      ]
    },
    {
      "attachments": {},
      "cell_type": "markdown",
      "metadata": {
        "id": "0xHw06rz7f6-"
      },
      "source": [
        "Disadvanatage\n",
        "\n",
        "1, As the number of features and examples increase, the algorithm gets slower.\n",
        "\n",
        "2, If we cannot select the appropriate k value, the score becomes low."
      ]
    }
  ],
  "metadata": {
    "colab": {
      "provenance": []
    },
    "kernelspec": {
      "display_name": "Python 3",
      "name": "python3"
    },
    "language_info": {
      "codemirror_mode": {
        "name": "ipython",
        "version": 3
      },
      "file_extension": ".py",
      "mimetype": "text/x-python",
      "name": "python",
      "nbconvert_exporter": "python",
      "pygments_lexer": "ipython3",
      "version": "3.9.5"
    }
  },
  "nbformat": 4,
  "nbformat_minor": 0
}
